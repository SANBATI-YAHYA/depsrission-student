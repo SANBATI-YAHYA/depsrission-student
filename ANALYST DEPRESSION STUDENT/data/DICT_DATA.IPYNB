{
 "cells": [
  {
   "cell_type": "markdown",
   "metadata": {},
   "source": [
    "# dictionnaeire pour la facilte d'utilisation \n",
    "ID : Identifiant unique pour chaque étudiant.\n",
    "\n",
    "Âge : Âge de l'étudiant.\n",
    "\n",
    "Sexe : Sexe de l'étudiant (Masculin, Féminin ou autre).\n",
    "\n",
    "Ville : Région géographique (par exemple, ville ou village).\n",
    "\n",
    "CGPA : Moyenne académique / Grade Point Average (GPA).\n",
    "\n",
    "Durée de sommeil : Nombre moyen d'heures de sommeil de l'étudiant par jour (peut être des intervalles comme \"5-6 heures\", \"Moins de 5 heures\", etc.).\n",
    "\n",
    "Profession : Profession ou rôle actuel (par exemple, Étudiant).\n",
    "\n",
    "Pression au travail : Niveau de pression ressenti au travail (valeurs numériques ou catégorielles).\n",
    "\n",
    "Pression académique : Niveau de pression ressenti sur le plan académique.\n",
    "\n",
    "Satisfaction études : Évaluation de la satisfaction de l'étudiant par rapport à ses études.\n",
    "\n",
    "Satisfaction travail : Évaluation de la satisfaction de l'étudiant concernant son travail, si applicable.\n",
    "\n",
    "Habitudes alimentaires : Habitudes alimentaires de l'étudiant (par exemple, \"Saines\", \"Modérées\", etc.).\n",
    "\n",
    "Statut dépressif : Variable cible, représentant si l'étudiant souffre de dépression, avec des valeurs binaires (Oui/Non).\n",
    "\n",
    "\n",
    "| ID  | Âge | Sexe   | Ville           | CGPA  | Durée de sommeil  | Profession | Pression au travail | Pression académique | Satisfaction études | Satisfaction travail | Habitudes alimentaires | Statut dépressif |\n",
    "|-----|-----|--------|-----------------|-------|-------------------|------------|---------------------|---------------------|---------------------|----------------------|------------------------|------------------|\n",
    "| 1   | 33  | Masculin | Visakhapatnam   | 8.97  | 5-6 heures        | Étudiant   | 5                   | 5                   | 2                   | 2                    | Saines                 | Oui              |\n",
    "| 2   | 24  | Féminin | Bangalore       | 5.90  | 5-6 heures        | Étudiant   | 2                   | 3                   | 5                   | 3                    | Modérées               | Non              |\n",
    "| 3   | 31  | Masculin | Srinagar       | 7.03  | Moins de 5 heures | Étudiant   | 3                   | 2                   | 5                   | 4                    | Saines                 | Non              |\n",
    "| 4   | 28  | Féminin | Varanasi        | 5.59  | 7-8 heures        | Étudiant   | 3                   | 4                   | 2                   | 5                    | Modérées               | Oui              |\n",
    "| 5   | 25  | Féminin | Jaipur          | 8.13  | 5-6 heures        | Étudiant   | 4                   | 3                   | 3                   | 2                    | Modérées               | Non              |\n",
    "| ... | ... | ...    | ...             | ...   | ...               | ...        | ...                 | ...                 | ...                 | ...                  | ...                    | ...              |\n",
    "\n"
   ]
  },
  {
   "cell_type": "markdown",
   "metadata": {},
   "source": []
  }
 ],
 "metadata": {
  "language_info": {
   "name": "python"
  }
 },
 "nbformat": 4,
 "nbformat_minor": 2
}
